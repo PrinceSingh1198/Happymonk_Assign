{
  "nbformat": 4,
  "nbformat_minor": 0,
  "metadata": {
    "colab": {
      "provenance": []
    },
    "kernelspec": {
      "name": "python3",
      "display_name": "Python 3"
    },
    "language_info": {
      "name": "python"
    }
  },
  "cells": [
    {
      "cell_type": "code",
      "source": [
        "import pandas as pd\n",
        "import numpy as np"
      ],
      "metadata": {
        "id": "lBNCw7fiLFBd"
      },
      "execution_count": 1,
      "outputs": []
    },
    {
      "cell_type": "code",
      "source": [
        "import pandas as pd\n",
        "import io\n",
        " \n",
        "df1 = pd.read_csv('/content/clust1.csv')\n",
        "df2 = pd.read_csv('/content/clust2.csv')"
      ],
      "metadata": {
        "id": "-F3iEfQ9Lyw8"
      },
      "execution_count": 6,
      "outputs": []
    },
    {
      "cell_type": "code",
      "source": [
        "a = df1.set_index(['Cust1','Neigh_Cust2']).index\n",
        "b = df2.set_index(['Cust1','Neigh_Cust2']).index\n",
        "\n",
        "df = pd.concat([df2[~b.isin(a)].assign(NewOrMissing = 'New'),\n",
        "                df1[~a.isin(b)].assign(NewOrMissing = 'Missing')])\n",
        "print (df)"
      ],
      "metadata": {
        "colab": {
          "base_uri": "https://localhost:8080/"
        },
        "id": "eAWAJpHsLFSQ",
        "outputId": "a66ac5e2-070d-4468-f2ee-6068c124ed11"
      },
      "execution_count": 7,
      "outputs": [
        {
          "output_type": "stream",
          "name": "stdout",
          "text": [
            "    Cust1   Neigh_Cust2  Age  Net_Value NewOrMissing\n",
            "5  Batman  Mickey Mouse   48      53000          New\n"
          ]
        }
      ]
    },
    {
      "cell_type": "code",
      "source": [
        "df = (pd.concat([df1.assign(NewOrMissing = 'Missing'), \n",
        "                df2.assign(NewOrMissing = 'New')])\n",
        "        .drop_duplicates(['Cust1','Neigh_Cust2'], keep=False))\n",
        "print (df)"
      ],
      "metadata": {
        "colab": {
          "base_uri": "https://localhost:8080/"
        },
        "id": "c97M7o8SJINS",
        "outputId": "25ae1458-c026-4ab2-ca28-53dd1a0db8a6"
      },
      "execution_count": 8,
      "outputs": [
        {
          "output_type": "stream",
          "name": "stdout",
          "text": [
            "    Cust1   Neigh_Cust2  Age  Net_Value NewOrMissing\n",
            "5  Batman  Mickey Mouse   48      53000          New\n"
          ]
        }
      ]
    }
  ]
}